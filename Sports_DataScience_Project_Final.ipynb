{
  "cells": [
    {
      "cell_type": "markdown",
      "metadata": {
        "id": "view-in-github",
        "colab_type": "text"
      },
      "source": [
        "<a href=\"https://colab.research.google.com/github/jacksteel5314/FootballGamblingLines/blob/main/Sports_DataScience_Project_Final.ipynb\" target=\"_parent\"><img src=\"https://colab.research.google.com/assets/colab-badge.svg\" alt=\"Open In Colab\"/></a>"
      ]
    },
    {
      "cell_type": "markdown",
      "metadata": {
        "id": "3h_vpNRXVdV-"
      },
      "source": [
        "## **Project:** NFL Oddsmakers Performance Analysis\n",
        "##### **Group Members:** Dylan Paul, Thomas Colicchio, Cason Pierce, Jack Steel"
      ]
    },
    {
      "cell_type": "markdown",
      "source": [
        "#**Imports**"
      ],
      "metadata": {
        "id": "Qd06xPedMVeo"
      }
    },
    {
      "cell_type": "code",
      "execution_count": null,
      "metadata": {
        "id": "T9bS6OsIVj-G",
        "outputId": "03618ae1-d9a1-4a0f-c238-c175ac5132a9",
        "colab": {
          "base_uri": "https://localhost:8080/"
        }
      },
      "outputs": [
        {
          "output_type": "stream",
          "name": "stdout",
          "text": [
            "1.2.2\n"
          ]
        }
      ],
      "source": [
        "import seaborn as sns\n",
        "import numpy as np\n",
        "import pandas as pd\n",
        "from scipy import stats\n",
        "\n",
        "if ('0.11' in sns.__version__) or ('0.12' in sns.__version__):\n",
        "    sns.set_theme()\n",
        "else:\n",
        "    sns.set()\n",
        "\n",
        "try:\n",
        "    import sklearn\n",
        "    print(sklearn.__version__)\n",
        "    if (sklearn.__version__ != '1.2.1' and sklearn.__version__ != '1.2.2'): #update for latest otter version\n",
        "        !pip install -U --user scikit-learn\n",
        "except Exception as e:\n",
        "    !pip install scikit-learn\n",
        "\n",
        "from sklearn.linear_model import LinearRegression\n",
        "from sklearn.metrics import mean_squared_error\n",
        "from sklearn.metrics import r2_score"
      ]
    },
    {
      "cell_type": "markdown",
      "metadata": {
        "id": "xlGfJittpr5K"
      },
      "source": [
        "#**Read in datasets**"
      ]
    },
    {
      "cell_type": "code",
      "execution_count": null,
      "metadata": {
        "colab": {
          "base_uri": "https://localhost:8080/",
          "height": 357
        },
        "id": "BlNuyMphpFQT",
        "outputId": "a5f44e20-ac70-4bef-ce5c-ecb3dbd48c3e"
      },
      "outputs": [
        {
          "output_type": "execute_result",
          "data": {
            "text/plain": [
              "     schedule_date  schedule_season schedule_week  schedule_playoff  \\\n",
              "350      1/14/1968             1967     Superbowl              True   \n",
              "538      1/12/1969             1968     Superbowl              True   \n",
              "727      1/11/1970             1969     Superbowl              True   \n",
              "916      1/17/1971             1970     Superbowl              True   \n",
              "1105     1/16/1972             1971     Superbowl              True   \n",
              "\n",
              "               team_home  score_home  score_away          team_away  \\\n",
              "350    Green Bay Packers          33          14    Oakland Raiders   \n",
              "538      Baltimore Colts           7          16      New York Jets   \n",
              "727   Kansas City Chiefs          23           7  Minnesota Vikings   \n",
              "916      Baltimore Colts          16          13     Dallas Cowboys   \n",
              "1105      Dallas Cowboys          24           3     Miami Dolphins   \n",
              "\n",
              "     team_favorite_id  spread_favorite over_under_line         stadium  \\\n",
              "350                GB            -13.5              43     Orange Bowl   \n",
              "538               IND            -18.0              40     Orange Bowl   \n",
              "727               MIN            -12.0              39  Tulane Stadium   \n",
              "916               IND             -2.5              36     Orange Bowl   \n",
              "1105              DAL             -6.0              34  Tulane Stadium   \n",
              "\n",
              "      stadium_neutral  weather_temperature  weather_wind_mph  \\\n",
              "350              True                 60.0              12.0   \n",
              "538              True                 66.0              12.0   \n",
              "727              True                 55.0              14.0   \n",
              "916              True                 59.0              11.0   \n",
              "1105             True                 34.0              18.0   \n",
              "\n",
              "      weather_humidity weather_detail  \n",
              "350               74.0            NaN  \n",
              "538               80.0           rain  \n",
              "727               84.0           rain  \n",
              "916               60.0            NaN  \n",
              "1105              40.0            NaN  "
            ],
            "text/html": [
              "\n",
              "  <div id=\"df-c4c421c5-b6df-43b4-bcf9-b92168981750\">\n",
              "    <div class=\"colab-df-container\">\n",
              "      <div>\n",
              "<style scoped>\n",
              "    .dataframe tbody tr th:only-of-type {\n",
              "        vertical-align: middle;\n",
              "    }\n",
              "\n",
              "    .dataframe tbody tr th {\n",
              "        vertical-align: top;\n",
              "    }\n",
              "\n",
              "    .dataframe thead th {\n",
              "        text-align: right;\n",
              "    }\n",
              "</style>\n",
              "<table border=\"1\" class=\"dataframe\">\n",
              "  <thead>\n",
              "    <tr style=\"text-align: right;\">\n",
              "      <th></th>\n",
              "      <th>schedule_date</th>\n",
              "      <th>schedule_season</th>\n",
              "      <th>schedule_week</th>\n",
              "      <th>schedule_playoff</th>\n",
              "      <th>team_home</th>\n",
              "      <th>score_home</th>\n",
              "      <th>score_away</th>\n",
              "      <th>team_away</th>\n",
              "      <th>team_favorite_id</th>\n",
              "      <th>spread_favorite</th>\n",
              "      <th>over_under_line</th>\n",
              "      <th>stadium</th>\n",
              "      <th>stadium_neutral</th>\n",
              "      <th>weather_temperature</th>\n",
              "      <th>weather_wind_mph</th>\n",
              "      <th>weather_humidity</th>\n",
              "      <th>weather_detail</th>\n",
              "    </tr>\n",
              "  </thead>\n",
              "  <tbody>\n",
              "    <tr>\n",
              "      <th>350</th>\n",
              "      <td>1/14/1968</td>\n",
              "      <td>1967</td>\n",
              "      <td>Superbowl</td>\n",
              "      <td>True</td>\n",
              "      <td>Green Bay Packers</td>\n",
              "      <td>33</td>\n",
              "      <td>14</td>\n",
              "      <td>Oakland Raiders</td>\n",
              "      <td>GB</td>\n",
              "      <td>-13.5</td>\n",
              "      <td>43</td>\n",
              "      <td>Orange Bowl</td>\n",
              "      <td>True</td>\n",
              "      <td>60.0</td>\n",
              "      <td>12.0</td>\n",
              "      <td>74.0</td>\n",
              "      <td>NaN</td>\n",
              "    </tr>\n",
              "    <tr>\n",
              "      <th>538</th>\n",
              "      <td>1/12/1969</td>\n",
              "      <td>1968</td>\n",
              "      <td>Superbowl</td>\n",
              "      <td>True</td>\n",
              "      <td>Baltimore Colts</td>\n",
              "      <td>7</td>\n",
              "      <td>16</td>\n",
              "      <td>New York Jets</td>\n",
              "      <td>IND</td>\n",
              "      <td>-18.0</td>\n",
              "      <td>40</td>\n",
              "      <td>Orange Bowl</td>\n",
              "      <td>True</td>\n",
              "      <td>66.0</td>\n",
              "      <td>12.0</td>\n",
              "      <td>80.0</td>\n",
              "      <td>rain</td>\n",
              "    </tr>\n",
              "    <tr>\n",
              "      <th>727</th>\n",
              "      <td>1/11/1970</td>\n",
              "      <td>1969</td>\n",
              "      <td>Superbowl</td>\n",
              "      <td>True</td>\n",
              "      <td>Kansas City Chiefs</td>\n",
              "      <td>23</td>\n",
              "      <td>7</td>\n",
              "      <td>Minnesota Vikings</td>\n",
              "      <td>MIN</td>\n",
              "      <td>-12.0</td>\n",
              "      <td>39</td>\n",
              "      <td>Tulane Stadium</td>\n",
              "      <td>True</td>\n",
              "      <td>55.0</td>\n",
              "      <td>14.0</td>\n",
              "      <td>84.0</td>\n",
              "      <td>rain</td>\n",
              "    </tr>\n",
              "    <tr>\n",
              "      <th>916</th>\n",
              "      <td>1/17/1971</td>\n",
              "      <td>1970</td>\n",
              "      <td>Superbowl</td>\n",
              "      <td>True</td>\n",
              "      <td>Baltimore Colts</td>\n",
              "      <td>16</td>\n",
              "      <td>13</td>\n",
              "      <td>Dallas Cowboys</td>\n",
              "      <td>IND</td>\n",
              "      <td>-2.5</td>\n",
              "      <td>36</td>\n",
              "      <td>Orange Bowl</td>\n",
              "      <td>True</td>\n",
              "      <td>59.0</td>\n",
              "      <td>11.0</td>\n",
              "      <td>60.0</td>\n",
              "      <td>NaN</td>\n",
              "    </tr>\n",
              "    <tr>\n",
              "      <th>1105</th>\n",
              "      <td>1/16/1972</td>\n",
              "      <td>1971</td>\n",
              "      <td>Superbowl</td>\n",
              "      <td>True</td>\n",
              "      <td>Dallas Cowboys</td>\n",
              "      <td>24</td>\n",
              "      <td>3</td>\n",
              "      <td>Miami Dolphins</td>\n",
              "      <td>DAL</td>\n",
              "      <td>-6.0</td>\n",
              "      <td>34</td>\n",
              "      <td>Tulane Stadium</td>\n",
              "      <td>True</td>\n",
              "      <td>34.0</td>\n",
              "      <td>18.0</td>\n",
              "      <td>40.0</td>\n",
              "      <td>NaN</td>\n",
              "    </tr>\n",
              "  </tbody>\n",
              "</table>\n",
              "</div>\n",
              "      <button class=\"colab-df-convert\" onclick=\"convertToInteractive('df-c4c421c5-b6df-43b4-bcf9-b92168981750')\"\n",
              "              title=\"Convert this dataframe to an interactive table.\"\n",
              "              style=\"display:none;\">\n",
              "        \n",
              "  <svg xmlns=\"http://www.w3.org/2000/svg\" height=\"24px\"viewBox=\"0 0 24 24\"\n",
              "       width=\"24px\">\n",
              "    <path d=\"M0 0h24v24H0V0z\" fill=\"none\"/>\n",
              "    <path d=\"M18.56 5.44l.94 2.06.94-2.06 2.06-.94-2.06-.94-.94-2.06-.94 2.06-2.06.94zm-11 1L8.5 8.5l.94-2.06 2.06-.94-2.06-.94L8.5 2.5l-.94 2.06-2.06.94zm10 10l.94 2.06.94-2.06 2.06-.94-2.06-.94-.94-2.06-.94 2.06-2.06.94z\"/><path d=\"M17.41 7.96l-1.37-1.37c-.4-.4-.92-.59-1.43-.59-.52 0-1.04.2-1.43.59L10.3 9.45l-7.72 7.72c-.78.78-.78 2.05 0 2.83L4 21.41c.39.39.9.59 1.41.59.51 0 1.02-.2 1.41-.59l7.78-7.78 2.81-2.81c.8-.78.8-2.07 0-2.86zM5.41 20L4 18.59l7.72-7.72 1.47 1.35L5.41 20z\"/>\n",
              "  </svg>\n",
              "      </button>\n",
              "      \n",
              "  <style>\n",
              "    .colab-df-container {\n",
              "      display:flex;\n",
              "      flex-wrap:wrap;\n",
              "      gap: 12px;\n",
              "    }\n",
              "\n",
              "    .colab-df-convert {\n",
              "      background-color: #E8F0FE;\n",
              "      border: none;\n",
              "      border-radius: 50%;\n",
              "      cursor: pointer;\n",
              "      display: none;\n",
              "      fill: #1967D2;\n",
              "      height: 32px;\n",
              "      padding: 0 0 0 0;\n",
              "      width: 32px;\n",
              "    }\n",
              "\n",
              "    .colab-df-convert:hover {\n",
              "      background-color: #E2EBFA;\n",
              "      box-shadow: 0px 1px 2px rgba(60, 64, 67, 0.3), 0px 1px 3px 1px rgba(60, 64, 67, 0.15);\n",
              "      fill: #174EA6;\n",
              "    }\n",
              "\n",
              "    [theme=dark] .colab-df-convert {\n",
              "      background-color: #3B4455;\n",
              "      fill: #D2E3FC;\n",
              "    }\n",
              "\n",
              "    [theme=dark] .colab-df-convert:hover {\n",
              "      background-color: #434B5C;\n",
              "      box-shadow: 0px 1px 3px 1px rgba(0, 0, 0, 0.15);\n",
              "      filter: drop-shadow(0px 1px 2px rgba(0, 0, 0, 0.3));\n",
              "      fill: #FFFFFF;\n",
              "    }\n",
              "  </style>\n",
              "\n",
              "      <script>\n",
              "        const buttonEl =\n",
              "          document.querySelector('#df-c4c421c5-b6df-43b4-bcf9-b92168981750 button.colab-df-convert');\n",
              "        buttonEl.style.display =\n",
              "          google.colab.kernel.accessAllowed ? 'block' : 'none';\n",
              "\n",
              "        async function convertToInteractive(key) {\n",
              "          const element = document.querySelector('#df-c4c421c5-b6df-43b4-bcf9-b92168981750');\n",
              "          const dataTable =\n",
              "            await google.colab.kernel.invokeFunction('convertToInteractive',\n",
              "                                                     [key], {});\n",
              "          if (!dataTable) return;\n",
              "\n",
              "          const docLinkHtml = 'Like what you see? Visit the ' +\n",
              "            '<a target=\"_blank\" href=https://colab.research.google.com/notebooks/data_table.ipynb>data table notebook</a>'\n",
              "            + ' to learn more about interactive tables.';\n",
              "          element.innerHTML = '';\n",
              "          dataTable['output_type'] = 'display_data';\n",
              "          await google.colab.output.renderOutput(dataTable, element);\n",
              "          const docLink = document.createElement('div');\n",
              "          docLink.innerHTML = docLinkHtml;\n",
              "          element.appendChild(docLink);\n",
              "        }\n",
              "      </script>\n",
              "    </div>\n",
              "  </div>\n",
              "  "
            ]
          },
          "metadata": {},
          "execution_count": 2
        }
      ],
      "source": [
        "stadiums = pd.read_csv(\"/content/nfl_stadiums.csv\", encoding = 'unicode_escape')\n",
        "teams = pd.read_csv(\"/content/nfl_teams.csv\", encoding = 'unicode_escape')\n",
        "games = pd.read_csv(\"/content/spreadspoke_scores.csv\", encoding = \"unicode_escape\").dropna(subset = [\"team_favorite_id\", \"over_under_line\", \"spread_favorite\"])\n",
        "games = games[games[\"over_under_line\"] != \" \"]\n",
        "games.head()"
      ]
    },
    {
      "cell_type": "markdown",
      "metadata": {
        "id": "dZXFSqNoqH0n"
      },
      "source": [
        "#**Data Wrangling**"
      ]
    },
    {
      "cell_type": "code",
      "execution_count": null,
      "metadata": {
        "id": "TbFU-YD_pJW_",
        "outputId": "0cd2f394-748a-4b67-e60e-82833ca17b7e",
        "colab": {
          "base_uri": "https://localhost:8080/",
          "height": 404
        }
      },
      "outputs": [
        {
          "output_type": "execute_result",
          "data": {
            "text/plain": [
              "  schedule_date  schedule_season schedule_week  schedule_playoff  \\\n",
              "0     1/14/1968             1967     Superbowl              True   \n",
              "1     1/12/1969             1968     Superbowl              True   \n",
              "2     1/17/1971             1970     Superbowl              True   \n",
              "3     1/18/1976             1975     Superbowl              True   \n",
              "4     1/21/1979             1978     Superbowl              True   \n",
              "\n",
              "           team_home  score_home  score_away            team_away  \\\n",
              "0  Green Bay Packers          33          14      Oakland Raiders   \n",
              "1    Baltimore Colts           7          16        New York Jets   \n",
              "2    Baltimore Colts          16          13       Dallas Cowboys   \n",
              "3     Dallas Cowboys          17          21  Pittsburgh Steelers   \n",
              "4     Dallas Cowboys          31          35  Pittsburgh Steelers   \n",
              "\n",
              "  team_favorite_id  spread_favorite  ... home_id away_id  winner  \\\n",
              "0               GB            -13.5  ...      GB     LVR      GB   \n",
              "1              IND            -18.0  ...     IND     NYJ     NYJ   \n",
              "2              IND             -2.5  ...     IND     DAL     IND   \n",
              "3              PIT             -7.0  ...     DAL     PIT     PIT   \n",
              "4              PIT             -3.5  ...     DAL     PIT     PIT   \n",
              "\n",
              "   actual spread  actualSpread - predictedSpread  \\\n",
              "0            -19                            -5.5   \n",
              "1              9                            27.0   \n",
              "2             -3                            -0.5   \n",
              "3             -4                             3.0   \n",
              "4             -4                            -0.5   \n",
              "\n",
              "   actualTotal - predictedTotal stadium_name  stadium_type  \\\n",
              "0                           4.0  Orange Bowl       outdoor   \n",
              "1                         -17.0  Orange Bowl       outdoor   \n",
              "2                          -7.0  Orange Bowl       outdoor   \n",
              "3                           2.0  Orange Bowl       outdoor   \n",
              "4                          29.0  Orange Bowl       outdoor   \n",
              "\n",
              "  stadium_weather_type stadium_surface  \n",
              "0                 warm             NaN  \n",
              "1                 warm             NaN  \n",
              "2                 warm             NaN  \n",
              "3                 warm             NaN  \n",
              "4                 warm             NaN  \n",
              "\n",
              "[5 rows x 28 columns]"
            ],
            "text/html": [
              "\n",
              "  <div id=\"df-d6234d0e-f847-4dc8-9568-a137886e81d1\">\n",
              "    <div class=\"colab-df-container\">\n",
              "      <div>\n",
              "<style scoped>\n",
              "    .dataframe tbody tr th:only-of-type {\n",
              "        vertical-align: middle;\n",
              "    }\n",
              "\n",
              "    .dataframe tbody tr th {\n",
              "        vertical-align: top;\n",
              "    }\n",
              "\n",
              "    .dataframe thead th {\n",
              "        text-align: right;\n",
              "    }\n",
              "</style>\n",
              "<table border=\"1\" class=\"dataframe\">\n",
              "  <thead>\n",
              "    <tr style=\"text-align: right;\">\n",
              "      <th></th>\n",
              "      <th>schedule_date</th>\n",
              "      <th>schedule_season</th>\n",
              "      <th>schedule_week</th>\n",
              "      <th>schedule_playoff</th>\n",
              "      <th>team_home</th>\n",
              "      <th>score_home</th>\n",
              "      <th>score_away</th>\n",
              "      <th>team_away</th>\n",
              "      <th>team_favorite_id</th>\n",
              "      <th>spread_favorite</th>\n",
              "      <th>...</th>\n",
              "      <th>home_id</th>\n",
              "      <th>away_id</th>\n",
              "      <th>winner</th>\n",
              "      <th>actual spread</th>\n",
              "      <th>actualSpread - predictedSpread</th>\n",
              "      <th>actualTotal - predictedTotal</th>\n",
              "      <th>stadium_name</th>\n",
              "      <th>stadium_type</th>\n",
              "      <th>stadium_weather_type</th>\n",
              "      <th>stadium_surface</th>\n",
              "    </tr>\n",
              "  </thead>\n",
              "  <tbody>\n",
              "    <tr>\n",
              "      <th>0</th>\n",
              "      <td>1/14/1968</td>\n",
              "      <td>1967</td>\n",
              "      <td>Superbowl</td>\n",
              "      <td>True</td>\n",
              "      <td>Green Bay Packers</td>\n",
              "      <td>33</td>\n",
              "      <td>14</td>\n",
              "      <td>Oakland Raiders</td>\n",
              "      <td>GB</td>\n",
              "      <td>-13.5</td>\n",
              "      <td>...</td>\n",
              "      <td>GB</td>\n",
              "      <td>LVR</td>\n",
              "      <td>GB</td>\n",
              "      <td>-19</td>\n",
              "      <td>-5.5</td>\n",
              "      <td>4.0</td>\n",
              "      <td>Orange Bowl</td>\n",
              "      <td>outdoor</td>\n",
              "      <td>warm</td>\n",
              "      <td>NaN</td>\n",
              "    </tr>\n",
              "    <tr>\n",
              "      <th>1</th>\n",
              "      <td>1/12/1969</td>\n",
              "      <td>1968</td>\n",
              "      <td>Superbowl</td>\n",
              "      <td>True</td>\n",
              "      <td>Baltimore Colts</td>\n",
              "      <td>7</td>\n",
              "      <td>16</td>\n",
              "      <td>New York Jets</td>\n",
              "      <td>IND</td>\n",
              "      <td>-18.0</td>\n",
              "      <td>...</td>\n",
              "      <td>IND</td>\n",
              "      <td>NYJ</td>\n",
              "      <td>NYJ</td>\n",
              "      <td>9</td>\n",
              "      <td>27.0</td>\n",
              "      <td>-17.0</td>\n",
              "      <td>Orange Bowl</td>\n",
              "      <td>outdoor</td>\n",
              "      <td>warm</td>\n",
              "      <td>NaN</td>\n",
              "    </tr>\n",
              "    <tr>\n",
              "      <th>2</th>\n",
              "      <td>1/17/1971</td>\n",
              "      <td>1970</td>\n",
              "      <td>Superbowl</td>\n",
              "      <td>True</td>\n",
              "      <td>Baltimore Colts</td>\n",
              "      <td>16</td>\n",
              "      <td>13</td>\n",
              "      <td>Dallas Cowboys</td>\n",
              "      <td>IND</td>\n",
              "      <td>-2.5</td>\n",
              "      <td>...</td>\n",
              "      <td>IND</td>\n",
              "      <td>DAL</td>\n",
              "      <td>IND</td>\n",
              "      <td>-3</td>\n",
              "      <td>-0.5</td>\n",
              "      <td>-7.0</td>\n",
              "      <td>Orange Bowl</td>\n",
              "      <td>outdoor</td>\n",
              "      <td>warm</td>\n",
              "      <td>NaN</td>\n",
              "    </tr>\n",
              "    <tr>\n",
              "      <th>3</th>\n",
              "      <td>1/18/1976</td>\n",
              "      <td>1975</td>\n",
              "      <td>Superbowl</td>\n",
              "      <td>True</td>\n",
              "      <td>Dallas Cowboys</td>\n",
              "      <td>17</td>\n",
              "      <td>21</td>\n",
              "      <td>Pittsburgh Steelers</td>\n",
              "      <td>PIT</td>\n",
              "      <td>-7.0</td>\n",
              "      <td>...</td>\n",
              "      <td>DAL</td>\n",
              "      <td>PIT</td>\n",
              "      <td>PIT</td>\n",
              "      <td>-4</td>\n",
              "      <td>3.0</td>\n",
              "      <td>2.0</td>\n",
              "      <td>Orange Bowl</td>\n",
              "      <td>outdoor</td>\n",
              "      <td>warm</td>\n",
              "      <td>NaN</td>\n",
              "    </tr>\n",
              "    <tr>\n",
              "      <th>4</th>\n",
              "      <td>1/21/1979</td>\n",
              "      <td>1978</td>\n",
              "      <td>Superbowl</td>\n",
              "      <td>True</td>\n",
              "      <td>Dallas Cowboys</td>\n",
              "      <td>31</td>\n",
              "      <td>35</td>\n",
              "      <td>Pittsburgh Steelers</td>\n",
              "      <td>PIT</td>\n",
              "      <td>-3.5</td>\n",
              "      <td>...</td>\n",
              "      <td>DAL</td>\n",
              "      <td>PIT</td>\n",
              "      <td>PIT</td>\n",
              "      <td>-4</td>\n",
              "      <td>-0.5</td>\n",
              "      <td>29.0</td>\n",
              "      <td>Orange Bowl</td>\n",
              "      <td>outdoor</td>\n",
              "      <td>warm</td>\n",
              "      <td>NaN</td>\n",
              "    </tr>\n",
              "  </tbody>\n",
              "</table>\n",
              "<p>5 rows × 28 columns</p>\n",
              "</div>\n",
              "      <button class=\"colab-df-convert\" onclick=\"convertToInteractive('df-d6234d0e-f847-4dc8-9568-a137886e81d1')\"\n",
              "              title=\"Convert this dataframe to an interactive table.\"\n",
              "              style=\"display:none;\">\n",
              "        \n",
              "  <svg xmlns=\"http://www.w3.org/2000/svg\" height=\"24px\"viewBox=\"0 0 24 24\"\n",
              "       width=\"24px\">\n",
              "    <path d=\"M0 0h24v24H0V0z\" fill=\"none\"/>\n",
              "    <path d=\"M18.56 5.44l.94 2.06.94-2.06 2.06-.94-2.06-.94-.94-2.06-.94 2.06-2.06.94zm-11 1L8.5 8.5l.94-2.06 2.06-.94-2.06-.94L8.5 2.5l-.94 2.06-2.06.94zm10 10l.94 2.06.94-2.06 2.06-.94-2.06-.94-.94-2.06-.94 2.06-2.06.94z\"/><path d=\"M17.41 7.96l-1.37-1.37c-.4-.4-.92-.59-1.43-.59-.52 0-1.04.2-1.43.59L10.3 9.45l-7.72 7.72c-.78.78-.78 2.05 0 2.83L4 21.41c.39.39.9.59 1.41.59.51 0 1.02-.2 1.41-.59l7.78-7.78 2.81-2.81c.8-.78.8-2.07 0-2.86zM5.41 20L4 18.59l7.72-7.72 1.47 1.35L5.41 20z\"/>\n",
              "  </svg>\n",
              "      </button>\n",
              "      \n",
              "  <style>\n",
              "    .colab-df-container {\n",
              "      display:flex;\n",
              "      flex-wrap:wrap;\n",
              "      gap: 12px;\n",
              "    }\n",
              "\n",
              "    .colab-df-convert {\n",
              "      background-color: #E8F0FE;\n",
              "      border: none;\n",
              "      border-radius: 50%;\n",
              "      cursor: pointer;\n",
              "      display: none;\n",
              "      fill: #1967D2;\n",
              "      height: 32px;\n",
              "      padding: 0 0 0 0;\n",
              "      width: 32px;\n",
              "    }\n",
              "\n",
              "    .colab-df-convert:hover {\n",
              "      background-color: #E2EBFA;\n",
              "      box-shadow: 0px 1px 2px rgba(60, 64, 67, 0.3), 0px 1px 3px 1px rgba(60, 64, 67, 0.15);\n",
              "      fill: #174EA6;\n",
              "    }\n",
              "\n",
              "    [theme=dark] .colab-df-convert {\n",
              "      background-color: #3B4455;\n",
              "      fill: #D2E3FC;\n",
              "    }\n",
              "\n",
              "    [theme=dark] .colab-df-convert:hover {\n",
              "      background-color: #434B5C;\n",
              "      box-shadow: 0px 1px 3px 1px rgba(0, 0, 0, 0.15);\n",
              "      filter: drop-shadow(0px 1px 2px rgba(0, 0, 0, 0.3));\n",
              "      fill: #FFFFFF;\n",
              "    }\n",
              "  </style>\n",
              "\n",
              "      <script>\n",
              "        const buttonEl =\n",
              "          document.querySelector('#df-d6234d0e-f847-4dc8-9568-a137886e81d1 button.colab-df-convert');\n",
              "        buttonEl.style.display =\n",
              "          google.colab.kernel.accessAllowed ? 'block' : 'none';\n",
              "\n",
              "        async function convertToInteractive(key) {\n",
              "          const element = document.querySelector('#df-d6234d0e-f847-4dc8-9568-a137886e81d1');\n",
              "          const dataTable =\n",
              "            await google.colab.kernel.invokeFunction('convertToInteractive',\n",
              "                                                     [key], {});\n",
              "          if (!dataTable) return;\n",
              "\n",
              "          const docLinkHtml = 'Like what you see? Visit the ' +\n",
              "            '<a target=\"_blank\" href=https://colab.research.google.com/notebooks/data_table.ipynb>data table notebook</a>'\n",
              "            + ' to learn more about interactive tables.';\n",
              "          element.innerHTML = '';\n",
              "          dataTable['output_type'] = 'display_data';\n",
              "          await google.colab.output.renderOutput(dataTable, element);\n",
              "          const docLink = document.createElement('div');\n",
              "          docLink.innerHTML = docLinkHtml;\n",
              "          element.appendChild(docLink);\n",
              "        }\n",
              "      </script>\n",
              "    </div>\n",
              "  </div>\n",
              "  "
            ]
          },
          "metadata": {},
          "execution_count": 3
        }
      ],
      "source": [
        "# Add column for total score\n",
        "games[\"Total Score\"] = games[\"score_home\"] + games[\"score_away\"]\n",
        "\n",
        "\n",
        "games = pd.merge(games,teams[['team_name','team_id']], left_on='team_home', right_on = \"team_name\", how='left').drop([\"team_name\"], axis = 1).rename({\"team_id\": \"home_id\"}, axis='columns')\n",
        "games = pd.merge(games,teams[['team_name','team_id']], left_on='team_away', right_on = \"team_name\", how='left').drop([\"team_name\"], axis = 1).rename({\"team_id\": \"away_id\"}, axis='columns')\n",
        "\n",
        "\"\"\"\n",
        "# Create mapping from team name to team ID\n",
        "keys = teams[\"team_name\"]\n",
        "values = teams[\"team_id\"]\n",
        "mapping = {keys[i]: values[i] for i in range(len(keys))}\n",
        "\n",
        "\n",
        "# Add home/away ID columns\n",
        "games[\"home_id\"] = [mapping[team] for team in games[\"team_home\"]]\n",
        "games[\"away_id\"] = [mapping[team] for team in games[\"team_away\"]]\n",
        "\"\"\"\n",
        "\n",
        "homeTeams = games[\"home_id\"]\n",
        "awayTeams = games[\"away_id\"]\n",
        "\n",
        "\n",
        "# Add column for team_id of the winner\n",
        "scoreDiff = games[\"score_home\"] - games[\"score_away\"]\n",
        "indices = scoreDiff.index\n",
        "winner = [homeTeams[i] if (scoreDiff[i] >= 0) else awayTeams[i] for i in indices]\n",
        "games[\"winner\"] = winner\n",
        "\n",
        "\n",
        "# Add a column for the actual spread of the game (underdog_score - favorite_score)\n",
        "actualSpread = [-scoreDiff[i] if (games[\"team_favorite_id\"][i] == games[\"home_id\"][i]) else scoreDiff[i] for i in indices]\n",
        "games[\"actual spread\"] = actualSpread\n",
        "\n",
        "\n",
        "# Add 2 columns for the differences in spread and total scores (actual - predicted)\n",
        "games[\"actualSpread - predictedSpread\"] = games[\"actual spread\"] - games[\"spread_favorite\"]\n",
        "games[\"actualTotal - predictedTotal\"] = [games[\"Total Score\"][i] - float(games[\"over_under_line\"][i]) for i in indices]\n",
        "\n",
        "# Merge stadiums and games\n",
        "games = pd.merge(games,stadiums[['stadium_name','stadium_type','stadium_weather_type','stadium_surface']], left_on='stadium',right_on='stadium_name')\n",
        "games.head()"
      ]
    },
    {
      "cell_type": "markdown",
      "metadata": {
        "id": "c3Mx066xqgWk"
      },
      "source": [
        "# **Data Analysis and Hypothesis Test of Total O/U Line Performance**"
      ]
    },
    {
      "cell_type": "code",
      "execution_count": null,
      "metadata": {
        "colab": {
          "base_uri": "https://localhost:8080/",
          "height": 499
        },
        "id": "NF-UH_Mqqeky",
        "outputId": "69dbb30b-5268-4d8d-bd85-ef575ed900f1"
      },
      "outputs": [
        {
          "output_type": "stream",
          "name": "stdout",
          "text": [
            "Mean of this distribution: 0.6022814382186531\n",
            "Standard deviation of this distribution: 13.651077090387103\n"
          ]
        },
        {
          "output_type": "display_data",
          "data": {
            "text/plain": [
              "<Figure size 640x480 with 1 Axes>"
            ],
            "image/png": "[encoded data removed]"
          },
          "metadata": {}
        }
      ],
      "source": [
        "# Working with the total score and O/U lines\n",
        "totalDist = sns.histplot(data = games, x = \"actualTotal - predictedTotal\", color = \"#4c72b0\")\n",
        "totalDist.set(xlabel='Actual Total Score - Predicted Total Score', ylabel='Count')\n",
        "print(\"Mean of this distribution: \" + str(np.mean(games[\"actualTotal - predictedTotal\"])))\n",
        "print(\"Standard deviation of this distribution: \" + str(np.std(games[\"actualTotal - predictedTotal\"])))"
      ]
    },
    {
      "cell_type": "markdown",
      "metadata": {
        "id": "hw80uquDqv0e"
      },
      "source": [
        "Looking at this distribution, we can see that it is approximately centered around 0 with a mean of 0.6 which is to be expected. However, we notice that there appears to be a rather large amount of variance with a decent number of games where the predicted total is significantly different from the actual total score. Therefore, we will test the hypothesis that the true mean of this statistic is less than or equal 0. Let $\\mu_{T}$ be the mean difference between actual total score and predicted total score.\n",
        "\n",
        "$H_{0}: \\mu_{T} \\leq 0$\n",
        "\n",
        "$H_{a}: \\mu_{T} > 0$\n",
        "\n"
      ]
    },
    {
      "cell_type": "code",
      "execution_count": null,
      "metadata": {
        "colab": {
          "base_uri": "https://localhost:8080/"
        },
        "id": "Un6KOJUhqsa9",
        "outputId": "1792ad75-8b91-4897-d09f-6b78c733c416"
      },
      "outputs": [
        {
          "output_type": "stream",
          "name": "stdout",
          "text": [
            "P-Value: 1.932891286915428e-06\n"
          ]
        }
      ],
      "source": [
        "tempMean = np.mean(games[\"actualTotal - predictedTotal\"])\n",
        "tempSD = np.std(games[\"actualTotal - predictedTotal\"])\n",
        "n = len(games)\n",
        "\n",
        "zScore = np.sqrt(n) * (tempMean - 0) / tempSD\n",
        "pVal = 1 - stats.norm.cdf(zScore)\n",
        "print(\"P-Value: \" + str(pVal))"
      ]
    },
    {
      "cell_type": "markdown",
      "metadata": {
        "id": "ani1JLLkq3rD"
      },
      "source": [
        "At a significance level of $\\alpha = 0.05$ and the observed p-value of $1.93 * 10^{-6}$, we reject the null hypothesis and lean in favor of the alternative hypothesis. This hypothesis test gives us evidence to believe that the mean difference between actual total score and predicted total score is greater than 0. With this insight, we note that over the course of the nearly 11,000 games in this dataset, oddsmakers have tended to underestimate the total number of points scored in NFL games. Now, we will perform a similar analysis on the statistic that measures the difference in actual and predicted spread."
      ]
    },
    {
      "cell_type": "markdown",
      "metadata": {
        "id": "-6i3rFQZq6NV"
      },
      "source": [
        "#**Data Analysis and Hypothesis Test of Total Spread Line Performance**"
      ]
    },
    {
      "cell_type": "code",
      "execution_count": null,
      "metadata": {
        "colab": {
          "base_uri": "https://localhost:8080/",
          "height": 493
        },
        "id": "zsINtDBDq1i-",
        "outputId": "dcf66940-41fb-4dcb-ba4b-2a5837c204c1"
      },
      "outputs": [
        {
          "output_type": "stream",
          "name": "stdout",
          "text": [
            "Mean of this distribution: 0.15198941412666545\n",
            "Standard deviation of this distribution: 13.337125306695679\n"
          ]
        },
        {
          "output_type": "display_data",
          "data": {
            "text/plain": [
              "<Figure size 640x480 with 1 Axes>"
            ],
            "image/png": "[encoded data removed]"
          },
          "metadata": {}
        }
      ],
      "source": [
        "spreadDist = sns.histplot(data = games, x = \"actualSpread - predictedSpread\", color = \"#4c72b0\")\n",
        "spreadDist.set(xlabel='Actual Spread - Predicted Spread', ylabel='Count')\n",
        "print(\"Mean of this distribution: \" + str(np.mean(games[\"actualSpread - predictedSpread\"])))\n",
        "print(\"Standard deviation of this distribution: \" + str(np.std(games[\"actualSpread - predictedSpread\"])))"
      ]
    },
    {
      "cell_type": "markdown",
      "metadata": {
        "id": "E0i-yNNerGya"
      },
      "source": [
        "In a similar fashion to the difference in predicted and actual total score, this distribution is roughly centered around 0 with a mean of 0.156 and standard deviation of 13.339. We will now test a similar hypothesis to deteremine if we have evidence to believe that the true difference in actual spread and predicted spread is 0. Let $\\mu_{S}$ be the mean difference in actual and predicted spread.\n",
        "\n",
        "$H_{0}: \\mu_{S} = 0$\n",
        "\n",
        "$H_{a}: \\mu_{S} \\neq 0$"
      ]
    },
    {
      "cell_type": "code",
      "execution_count": null,
      "metadata": {
        "colab": {
          "base_uri": "https://localhost:8080/"
        },
        "id": "Lpm_KevCrBFx",
        "outputId": "cde38c32-5ff2-4c55-b4b1-5b2f6cfe560c"
      },
      "outputs": [
        {
          "output_type": "stream",
          "name": "stdout",
          "text": [
            "P-Value: 0.23289485557304657\n"
          ]
        }
      ],
      "source": [
        "tempMean = np.mean(games[\"actualSpread - predictedSpread\"])\n",
        "tempSD = np.std(games[\"actualSpread - predictedSpread\"])\n",
        "n = len(games)\n",
        "\n",
        "zScore = np.sqrt(n) * (tempMean - 0) / tempSD\n",
        "pVal = (1 - stats.norm.cdf(zScore)) * 2\n",
        "print(\"P-Value: \" + str(pVal))"
      ]
    },
    {
      "cell_type": "markdown",
      "metadata": {
        "id": "vw0r80zHrOP_"
      },
      "source": [
        "With a p-value of 0.23 and a significance level of $\\alpha = 0.05$, we fail to reject the null hypothesis that the mean difference between actual and predicted spread is not 0. Note that in an unbiased environment, the mean difference between actual spread and predicted spread would be 0. With these results, we notice that oddsmakers appear to be more effective at predicting spreads than the total score. While there will inherently be games where the predicted total score or spread will be severely underestimated or overestimated, the effects of these miscalculations will be mitigated if they are equally likely to be underestimated or overestimated. While this appears to be true with the spread, there appears to be a slight bias towards underpredicting the total score. This observation leads us to believe that there may be an opportunistic gambling strategy to placing bets on the \"Over\" for total score. Before jumping to conclusions on the validity of this strategy, we must note that the games in this dataset date back to the 1970s. To properly assess this gambling strategy, we will analyze the predictive accuracy of gambling lines over time."
      ]
    },
    {
      "cell_type": "markdown",
      "source": [
        "# **Graphical Representation of Spreads and O/U Lines Performance Over Time**"
      ],
      "metadata": {
        "id": "mmmfCrwnKPQR"
      }
    },
    {
      "cell_type": "code",
      "execution_count": null,
      "metadata": {
        "colab": {
          "base_uri": "https://localhost:8080/",
          "height": 1000
        },
        "id": "oaKXVrGzrDz_",
        "outputId": "47c682a1-7154-434c-ba4f-ba9ab041a593"
      },
      "outputs": [
        {
          "output_type": "stream",
          "name": "stderr",
          "text": [
            "<ipython-input-8-4401e6871ca3>:2: FutureWarning: The default value of numeric_only in DataFrameGroupBy.mean is deprecated. In a future version, numeric_only will default to False. Either specify numeric_only or select only columns which should be valid for the function.\n",
            "  bySeason = newGames.groupby(\"schedule_season\").mean()[[\"actualSpread - predictedSpread\", \"actualTotal - predictedTotal\"]]\n"
          ]
        },
        {
          "output_type": "execute_result",
          "data": {
            "text/plain": [
              "[Text(0, 0, '1990'),\n",
              " Text(1, 0, '1991'),\n",
              " Text(2, 0, '1992'),\n",
              " Text(3, 0, '1993'),\n",
              " Text(4, 0, '1994'),\n",
              " Text(5, 0, '1995'),\n",
              " Text(6, 0, '1996'),\n",
              " Text(7, 0, '1997'),\n",
              " Text(8, 0, '1998'),\n",
              " Text(9, 0, '1999'),\n",
              " Text(10, 0, '2000'),\n",
              " Text(11, 0, '2001'),\n",
              " Text(12, 0, '2002'),\n",
              " Text(13, 0, '2003'),\n",
              " Text(14, 0, '2004'),\n",
              " Text(15, 0, '2005'),\n",
              " Text(16, 0, '2006'),\n",
              " Text(17, 0, '2007'),\n",
              " Text(18, 0, '2008'),\n",
              " Text(19, 0, '2009'),\n",
              " Text(20, 0, '2010'),\n",
              " Text(21, 0, '2011'),\n",
              " Text(22, 0, '2012'),\n",
              " Text(23, 0, '2013'),\n",
              " Text(24, 0, '2014'),\n",
              " Text(25, 0, '2015'),\n",
              " Text(26, 0, '2016'),\n",
              " Text(27, 0, '2017'),\n",
              " Text(28, 0, '2018'),\n",
              " Text(29, 0, '2019'),\n",
              " Text(30, 0, '2020'),\n",
              " Text(31, 0, '2021'),\n",
              " Text(32, 0, '2022')]"
            ]
          },
          "metadata": {},
          "execution_count": 8
        },
        {
          "output_type": "display_data",
          "data": {
            "text/plain": [
              "<Figure size 640x480 with 1 Axes>"
            ],
            "image/png": "[encoded data removed]"
          },
          "metadata": {}
        }
      ],
      "source": [
        "newGames = games[games[\"schedule_season\"] >= 1990]\n",
        "bySeason = newGames.groupby(\"schedule_season\").mean()[[\"actualSpread - predictedSpread\", \"actualTotal - predictedTotal\"]]\n",
        "years = bySeason.index\n",
        "spreadDiff = bySeason[\"actualSpread - predictedSpread\"]\n",
        "totalDiff = bySeason[\"actualTotal - predictedTotal\"]\n",
        "\n",
        "spreadViz = sns.barplot(x = years, y = spreadDiff, color = \"#4c72b0\")\n",
        "spreadViz.set(xlabel='Year', ylabel='Mean Difference in Actual and Predicted Spread')\n",
        "spreadViz.set_xticklabels(spreadViz.get_xticklabels(), rotation=90, horizontalalignment='right')\n"
      ]
    },
    {
      "cell_type": "code",
      "execution_count": null,
      "metadata": {
        "colab": {
          "base_uri": "https://localhost:8080/",
          "height": 1000
        },
        "id": "7397uSLTrQyc",
        "outputId": "708e41dc-b743-4cd1-dd4f-3fdbad20b752"
      },
      "outputs": [
        {
          "output_type": "execute_result",
          "data": {
            "text/plain": [
              "[Text(0, 0, '1990'),\n",
              " Text(1, 0, '1991'),\n",
              " Text(2, 0, '1992'),\n",
              " Text(3, 0, '1993'),\n",
              " Text(4, 0, '1994'),\n",
              " Text(5, 0, '1995'),\n",
              " Text(6, 0, '1996'),\n",
              " Text(7, 0, '1997'),\n",
              " Text(8, 0, '1998'),\n",
              " Text(9, 0, '1999'),\n",
              " Text(10, 0, '2000'),\n",
              " Text(11, 0, '2001'),\n",
              " Text(12, 0, '2002'),\n",
              " Text(13, 0, '2003'),\n",
              " Text(14, 0, '2004'),\n",
              " Text(15, 0, '2005'),\n",
              " Text(16, 0, '2006'),\n",
              " Text(17, 0, '2007'),\n",
              " Text(18, 0, '2008'),\n",
              " Text(19, 0, '2009'),\n",
              " Text(20, 0, '2010'),\n",
              " Text(21, 0, '2011'),\n",
              " Text(22, 0, '2012'),\n",
              " Text(23, 0, '2013'),\n",
              " Text(24, 0, '2014'),\n",
              " Text(25, 0, '2015'),\n",
              " Text(26, 0, '2016'),\n",
              " Text(27, 0, '2017'),\n",
              " Text(28, 0, '2018'),\n",
              " Text(29, 0, '2019'),\n",
              " Text(30, 0, '2020'),\n",
              " Text(31, 0, '2021'),\n",
              " Text(32, 0, '2022')]"
            ]
          },
          "metadata": {},
          "execution_count": 9
        },
        {
          "output_type": "display_data",
          "data": {
            "text/plain": [
              "<Figure size 640x480 with 1 Axes>"
            ],
            "image/png": "[encoded data removed]"
          },
          "metadata": {}
        }
      ],
      "source": [
        "totalViz = sns.barplot(x = years, y = totalDiff, color = \"#4c72b0\")\n",
        "totalViz.set(xlabel='Year', ylabel='Mean Difference in Actual and Predicted Total')\n",
        "totalViz.set_xticklabels(spreadViz.get_xticklabels(), rotation=90, horizontalalignment='right')\n"
      ]
    },
    {
      "cell_type": "markdown",
      "metadata": {
        "id": "2Gp76ia7rV_Z"
      },
      "source": [
        "To get a better understanding of the accuracy of lines over time, we constructed these bar plots which allow us to see general trends in the performance of O/U and spread lines over time. To reaffirm our inclinations from the hypothesis test, we observe that the annual mean difference in actual and predicted total score is greater than 0 for the vast majority of years since 1990. Meanwhile, the trend amongst the annual spread difference data is less clear. For a majority of years since 1990 the annual mean difference in actual and predicted spread is positive, but there are some extreme outliers in the negative direction. To develop a firm statistical understanding of these qualitative observations, we will perform more testing to analyze the accuracy of these lines over time."
      ]
    },
    {
      "cell_type": "markdown",
      "metadata": {
        "id": "LY_6l_wtrYyR"
      },
      "source": [
        "# **Data Analysis and Hypothesis Test of O/U Line Performance By Playing Conditions**"
      ]
    },
    {
      "cell_type": "markdown",
      "source": [
        "## Indoor vs Outdoor"
      ],
      "metadata": {
        "id": "23Eoogy4JKxN"
      }
    },
    {
      "cell_type": "code",
      "execution_count": null,
      "metadata": {
        "id": "c7ROvxLaxfy-",
        "outputId": "2a724547-8040-4363-cbbf-fd3d3057a2fa",
        "colab": {
          "base_uri": "https://localhost:8080/",
          "height": 527
        }
      },
      "outputs": [
        {
          "output_type": "stream",
          "name": "stdout",
          "text": [
            "Mean of outdoor O/U distribution: 0.4811655405405405\n",
            "Standard deviation of outdoor O/U distribution: 13.709507197174949\n",
            "Mean of indoor O/U distribution: 1.0303212851405623\n",
            "Standard deviation of indoor O/U distribution: 13.562854359266394\n"
          ]
        },
        {
          "output_type": "display_data",
          "data": {
            "text/plain": [
              "<Figure size 640x480 with 1 Axes>"
            ],
            "image/png": "[encoded data removed]"
          },
          "metadata": {}
        }
      ],
      "source": [
        "# Filter the 'games' DataFrame based on stadium type and assign it to new variables\n",
        "outdoor = games[games['stadium_type'] == 'outdoor']\n",
        "indoor = games[games['stadium_type'] == 'indoor']\n",
        "\n",
        "# Plotting O/U Line Performance by Stadium Type\n",
        "totalDist = sns.histplot(data = outdoor, x = \"actualTotal - predictedTotal\", color = \"#4c72b0\")\n",
        "totalDist.set(xlabel='Actual Total Score - Predicted Total Score', ylabel='Count')\n",
        "print(\"Mean of outdoor O/U distribution: \" + str(np.mean(outdoor[\"actualTotal - predictedTotal\"])))\n",
        "print(\"Standard deviation of outdoor O/U distribution: \" + str(np.std(outdoor[\"actualTotal - predictedTotal\"])))\n",
        "\n",
        "totalDist2 = sns.histplot(data = indoor, x = \"actualTotal - predictedTotal\", color = \"#808080\")\n",
        "totalDist2.set(xlabel='Actual Total Score - Predicted Total Score', ylabel='Count')\n",
        "print(\"Mean of indoor O/U distribution: \" + str(np.mean(indoor[\"actualTotal - predictedTotal\"])))\n",
        "print(\"Standard deviation of indoor O/U distribution: \" + str(np.std(indoor[\"actualTotal - predictedTotal\"])))"
      ]
    },
    {
      "cell_type": "markdown",
      "metadata": {
        "id": "VK2pgtL1xfy_"
      },
      "source": [
        "Above, we separate games played at outdoor stadiums and games played at indoor stadiums and plot the distributions of the difference between the actual total and predicted total. The outdoor distribution is plotted in blue while the indoor distribution is plotted in gray. As shown, many more games have been played outdoors. Looking at these distributions, we can see that while the outdoor distribution has a mean of roughly 0.5,\n",
        "the indoor distribution has a mean of approximately 1. That said, both distributions appear to be centered around 0,\n",
        "which suggests that the indoor distribution has a fatter right-hand tail that is pushing its mean upwards.\n",
        "\n",
        "A two-sided hypothesis test would determine whether oddsmakers accuracy differs between indoor and outdoor games,\n",
        "however, we believe a more interesting test is a one-sided hypothesis test to determine whether oddsmakers under-estimate outdoor totals relative to indoor totals. The intuitive basis of this hypothesis is that all else equal offsenses will perform better in indoor games without the impact of the weather, and so, we excpect to see more \"outlier\" games with totals significantly above their predicted total in indoor games. Further, the nature of a one-sided test can lead to results that have implications for a potential gambling strategy. If we reject this null hypothesis, one could reason that over a large enough sample betting the \"over\" on indoor games will outperform betting the \"over\" on outdoor games. Let $\\mu_{TO}$ adn $\\mu_{TI}$ be the mean difference between\n",
        "actual total score and predicted total score for indoor and outdoor games respectively.\n",
        "\n",
        "$H_{0}: \\mu_{TO} \\geq \\mu_{TI}$\n",
        "\n",
        "$H_{a}: \\mu_{TO} < \\mu_{TI}$\n"
      ]
    },
    {
      "cell_type": "code",
      "execution_count": null,
      "metadata": {
        "id": "0kgaYzy1xfy_",
        "outputId": "adfac70f-fcfa-4d30-dca6-fdb1b91f8f3b",
        "colab": {
          "base_uri": "https://localhost:8080/"
        }
      },
      "outputs": [
        {
          "output_type": "stream",
          "name": "stdout",
          "text": [
            "t-statistic: -1.6084281847657138\n",
            "p-value: 0.05388607343764481\n"
          ]
        }
      ],
      "source": [
        "t_stat, p_val = stats.ttest_ind(outdoor[\"actualTotal - predictedTotal\"], indoor[\"actualTotal - predictedTotal\"],alternative='less')\n",
        "\n",
        "print(\"t-statistic:\", t_stat)\n",
        "print(\"p-value:\", p_val)"
      ]
    },
    {
      "cell_type": "markdown",
      "metadata": {
        "id": "EFjFgnGWxfy_"
      },
      "source": [
        "At a significance level of $\\alpha = 0.05$ and the observed p-value of $0.054$, we fail to reject the null hypothesis.\n",
        "Although this p-value is very close to the 0.05 signifigance level, we cannot conclude that the difference between\n",
        "the actual and predicted total is greater for indoor games than outdoor games."
      ]
    },
    {
      "cell_type": "markdown",
      "source": [
        "## Grass vs Turf"
      ],
      "metadata": {
        "id": "izk7e3eSJTPE"
      }
    },
    {
      "cell_type": "markdown",
      "source": [
        "Next, we conduct an analagous hypothesis test\n",
        "to see whether or not oddsmakers underestimate the total scores for games played on turf. The rationale here is that\n",
        "all else equal offenses perform better on turf relative to grass."
      ],
      "metadata": {
        "id": "R4hZCtaIJWkc"
      }
    },
    {
      "cell_type": "code",
      "execution_count": null,
      "metadata": {
        "id": "UBf1duBNxfy_",
        "outputId": "7f023b29-9488-4ac5-b803-de5f03adb911",
        "colab": {
          "base_uri": "https://localhost:8080/",
          "height": 527
        }
      },
      "outputs": [
        {
          "output_type": "stream",
          "name": "stdout",
          "text": [
            "Mean of grass O/U distribution: 0.3418256459792321\n",
            "Standard deviation of grass O/U distribution: 13.452501213198875\n",
            "Mean of turf O/U distribution: 0.841978287092883\n",
            "Standard deviation of turf O/U distribution: 13.746438621532631\n"
          ]
        },
        {
          "output_type": "display_data",
          "data": {
            "text/plain": [
              "<Figure size 640x480 with 1 Axes>"
            ],
            "image/png": "[encoded data removed]"
          },
          "metadata": {}
        }
      ],
      "source": [
        "# Filter the 'games' DataFrame based on surface type and assign it to new variables\n",
        "grass = games[games['stadium_surface'] == 'Grass']\n",
        "turf = games[(games['stadium_surface'] == 'FieldTurf') | (games['stadium_surface'] == \"Hellas Matrix Turf\")]\n",
        "\n",
        "# Plotting O/U Line Performance by Surface Type\n",
        "totalDist = sns.histplot(data = grass, x = \"actualTotal - predictedTotal\", color = \"#4c72b0\")\n",
        "totalDist.set(xlabel='Actual Total Score - Predicted Total Score', ylabel='Count')\n",
        "print(\"Mean of grass O/U distribution: \" + str(np.mean(grass[\"actualTotal - predictedTotal\"])))\n",
        "print(\"Standard deviation of grass O/U distribution: \" + str(np.std(grass[\"actualTotal - predictedTotal\"])))\n",
        "\n",
        "totalDist2 = sns.histplot(data = turf, x = \"actualTotal - predictedTotal\", color = \"#808080\")\n",
        "totalDist2.set(xlabel='Actual Total Score - Predicted Total Score', ylabel='Count')\n",
        "print(\"Mean of turf O/U distribution: \" + str(np.mean(turf[\"actualTotal - predictedTotal\"])))\n",
        "print(\"Standard deviation of turf O/U distribution: \" + str(np.std(turf[\"actualTotal - predictedTotal\"])))\n",
        "\n"
      ]
    },
    {
      "cell_type": "markdown",
      "metadata": {
        "id": "6_7ploznxfzA"
      },
      "source": [
        "Once again, while both distributions are centered near 0, however the turf distribution, displayed in gray, has a longer right-hand side tail and a larger mean. For this one-sided hypothesis test, let $\\mu_{TG}$ adn $\\mu_{TT}$ be the mean difference between actual total score and predicted total score for grass and turf games respectively.\n",
        "\n",
        "$H_{0}: \\mu_{TG} \\geq \\mu_{TT}$\n",
        "\n",
        "$H_{a}: \\mu_{TG} < \\mu_{TT}$"
      ]
    },
    {
      "cell_type": "code",
      "execution_count": null,
      "metadata": {
        "id": "Qt-Lw3XWxfzA",
        "outputId": "1a40671d-7a0c-4030-ff46-25d5eb120a48",
        "colab": {
          "base_uri": "https://localhost:8080/"
        }
      },
      "outputs": [
        {
          "output_type": "stream",
          "name": "stdout",
          "text": [
            "t-statistic: -1.4533265506619222\n",
            "p-value: 0.0730902332475748\n"
          ]
        }
      ],
      "source": [
        "t_stat, p_val = stats.ttest_ind(grass[\"actualTotal - predictedTotal\"], turf[\"actualTotal - predictedTotal\"],alternative='less')\n",
        "\n",
        "print(\"t-statistic:\", t_stat)\n",
        "print(\"p-value:\", p_val)"
      ]
    },
    {
      "cell_type": "markdown",
      "metadata": {
        "id": "yyDLf7TixfzA"
      },
      "source": [
        "We also fail to reject this null hypotheiss at the 0.05 signifigance level. Thus, we cannot say that oddsmakers\n",
        "underestimate the total score for turf games relative to grass games."
      ]
    },
    {
      "cell_type": "markdown",
      "source": [
        "## High Wind vs Low Wind"
      ],
      "metadata": {
        "id": "RGqmYBESI8bf"
      }
    },
    {
      "cell_type": "markdown",
      "source": [
        "Next, we conduct a similar analysis with wind\n",
        "speed where we generate a varialbe called wind_type that tags games based on whether or not the wind speed that day was above or below the median wind speed for all games."
      ],
      "metadata": {
        "id": "e0B9DaGmJgvw"
      }
    },
    {
      "cell_type": "code",
      "execution_count": null,
      "metadata": {
        "id": "n5wsbQqzxfzB",
        "outputId": "4b95f622-2011-4ae0-da63-80be6da67864",
        "colab": {
          "base_uri": "https://localhost:8080/",
          "height": 527
        }
      },
      "outputs": [
        {
          "output_type": "stream",
          "name": "stdout",
          "text": [
            "Mean of low wind O/U distribution: 1.0510247901620144\n",
            "Standard deviation of low wind O/U distribution: 13.631184050906224\n",
            "Mean of high wind O/U distribution: 0.25746892194823723\n",
            "Standard deviation of high wind O/U distribution: 13.74113845476481\n"
          ]
        },
        {
          "output_type": "display_data",
          "data": {
            "text/plain": [
              "<Figure size 640x480 with 1 Axes>"
            ],
            "image/png": "[encoded data removed]"
          },
          "metadata": {}
        }
      ],
      "source": [
        "games['wind_type'] = pd.qcut(games['weather_wind_mph'], q=2, labels=['low', 'high'],duplicates=\"drop\")\n",
        "\n",
        "\n",
        "wind_low = games[games['wind_type'] == 'low']\n",
        "wind_high = games[games['wind_type'] == 'high']\n",
        "\n",
        "# Plotting O/U Line Performance by Wind Speed\n",
        "totalDist = sns.histplot(data = wind_low, x = \"actualTotal - predictedTotal\", color = \"#4c72b0\")\n",
        "totalDist.set(xlabel='Actual Total Score - Predicted Total Score', ylabel='Count')\n",
        "print(\"Mean of low wind O/U distribution: \" + str(np.mean(wind_low[\"actualTotal - predictedTotal\"])))\n",
        "print(\"Standard deviation of low wind O/U distribution: \" + str(np.std(wind_low[\"actualTotal - predictedTotal\"])))\n",
        "\n",
        "totalDist2 = sns.histplot(data = wind_high, x = \"actualTotal - predictedTotal\", color = \"#808080\")\n",
        "totalDist2.set(xlabel='Actual Total Score - Predicted Total Score', ylabel='Count')\n",
        "print(\"Mean of high wind O/U distribution: \" + str(np.mean(wind_high[\"actualTotal - predictedTotal\"])))\n",
        "print(\"Standard deviation of high wind O/U distribution: \" + str(np.std(wind_high[\"actualTotal - predictedTotal\"])))"
      ]
    },
    {
      "cell_type": "markdown",
      "metadata": {
        "id": "eCudZelpxfzB"
      },
      "source": [
        "Here, we see that the mean of the low wind distribution (blue) is over four times larger than the mean for the\n",
        "high wind distribution (gray). Given these raw means, we might suspect that oddsmakers are better at predicting total\n",
        "scores for high wind games. In a different sense, we might expect more outlier games in which the total score well\n",
        "exceeds the predicted total in low wind conditions. Hence, we test whether or not oddsmakers underestimate low wind totals\n",
        "relative to high wind totals with this one-sided hypothesis test. Let $\\mu_{TL}$ and $\\mu_{TH}$ be the mean\n",
        "difference between actual total score and predicted total score for low wind and high wind games respectively.\n",
        "\n",
        "$H_{0}: \\mu_{TL} \\leq \\mu_{TH}$\n",
        "\n",
        "$H_{a}: \\mu_{TL} > \\mu_{TH}$"
      ]
    },
    {
      "cell_type": "code",
      "execution_count": null,
      "metadata": {
        "id": "8Xo9sdE2xfzC",
        "outputId": "55fdf276-9bc9-4f29-9d1c-c1f5678322d5",
        "colab": {
          "base_uri": "https://localhost:8080/"
        }
      },
      "outputs": [
        {
          "output_type": "stream",
          "name": "stdout",
          "text": [
            "t-statistic: 2.9027281184909532\n",
            "p-value: 0.0018536686451014301\n"
          ]
        }
      ],
      "source": [
        "t_stat, p_val = stats.ttest_ind(wind_low[\"actualTotal - predictedTotal\"], wind_high[\"actualTotal - predictedTotal\"],alternative=\"greater\")\n",
        "\n",
        "print(\"t-statistic:\", t_stat)\n",
        "print(\"p-value:\", p_val)"
      ]
    },
    {
      "cell_type": "markdown",
      "metadata": {
        "id": "GJpP35RFxfzC"
      },
      "source": [
        "We are able to reject the null hypothesis that the difference between the actual and predicted totals for low wind\n",
        "games are less than or equal to that for high wind games at the $\\alpha = 0.05$ with the observed p-value of $0.0018$.\n",
        "This tells us that while some may be tempted by lower O/U lines offered for high wind games, it is best in the long\n",
        "run to stay away from betting the \"over\" on these games and a better strategy relatively speaking to bet the over on\n",
        "low wind games."
      ]
    },
    {
      "cell_type": "markdown",
      "source": [
        "# **Data Analysis and Hypothesis Test of Home/Away Favorites Spreads**"
      ],
      "metadata": {
        "id": "2tzroiNUInpc"
      }
    },
    {
      "cell_type": "code",
      "execution_count": null,
      "metadata": {
        "id": "3hs42VbDxfzC",
        "outputId": "8100c5bc-92db-4ed0-fc33-e12975ba69b2",
        "colab": {
          "base_uri": "https://localhost:8080/",
          "height": 527
        }
      },
      "outputs": [
        {
          "output_type": "stream",
          "name": "stdout",
          "text": [
            "Mean of home favorite distribution: -2.175438596491228\n",
            "Standard deviation of home favorite distribution: 13.40445984426355\n",
            "Mean of away favorite distribution: 3.331785791405744\n",
            "Standard deviation of away favorite distribution: 13.61024279528315\n"
          ]
        },
        {
          "output_type": "display_data",
          "data": {
            "text/plain": [
              "<Figure size 640x480 with 1 Axes>"
            ],
            "image/png": "[encoded data removed]"
          },
          "metadata": {}
        }
      ],
      "source": [
        "games_adj= games[['actualSpread - predictedSpread','actual spread','spread_favorite','home_id','away_id','team_favorite_id','winner']].dropna()\n",
        "games_adj['home_favorite'] = (games_adj['home_id']==games_adj['winner'])\n",
        "\n",
        "home_fav = games_adj[games_adj['home_favorite']]\n",
        "away_fav = games_adj[games_adj['home_favorite']==False]\n",
        "\n",
        "#Plotting Spread Line Performance by whether the Home Team was Favorite\n",
        "totalDist = sns.histplot(data = home_fav, x = \"actualSpread - predictedSpread\", color = \"#4c72b0\")\n",
        "totalDist.set(xlabel='Actual Spread - Predicted Spread', ylabel='Count')\n",
        "print(\"Mean of home favorite distribution: \" + str(np.mean(home_fav[\"actualSpread - predictedSpread\"])))\n",
        "print(\"Standard deviation of home favorite distribution: \" + str(np.std(wind_low[\"actualSpread - predictedSpread\"])))\n",
        "\n",
        "totalDist2 = sns.histplot(data = away_fav, x = \"actualSpread - predictedSpread\", color = \"#808080\")\n",
        "totalDist2.set(xlabel='Actual Spread - Predicted Spread', ylabel='Count')\n",
        "print(\"Mean of away favorite distribution: \" + str(np.mean(away_fav[\"actualSpread - predictedSpread\"])))\n",
        "print(\"Standard deviation of away favorite distribution: \" + str(np.std(away_fav[\"actualSpread - predictedSpread\"])))"
      ]
    },
    {
      "cell_type": "markdown",
      "metadata": {
        "id": "V_soHGDVxfzC"
      },
      "source": [
        "Below, we create a mask that indicates whether the home team was the team that was favorite. Then, we plot the\n",
        "distributions of the differences between the actual spread and predicted spread of the games that the home team\n",
        "was favorite in blue and those where the away team was favorite in gray. Notably, while the mean difference for games\n",
        "where the home team was favorite was approximately -2, the mean difference for games where away teams were favorite was\n",
        "roughly 3. Thus, in this dataset home favorites on average under perform the spread by 2 points while away favorites on average overperform the spread by 3 points. One can observe the home favorite distribution has a fatter left-hand\n",
        "tail while the away favorite distribution has a fatter right-hand side tail. Next, we conduct a two-sided t-test to determine whether or not there is a true difference between the difference in actual spread and predicted spreads for games where the home versus the away team are favorite. Let $\\mu_{SH}$ and $\\mu_{SA}$ be the mean difference between actual spread and predicted spread for games in which the home and away team are favorite respectively.\n",
        "\n",
        "$H_{0}: \\mu_{SH} = \\mu_{SA}$\n",
        "\n",
        "$H_{a}: \\mu_{SH}  != \\mu_{SA}$\n"
      ]
    },
    {
      "cell_type": "code",
      "execution_count": null,
      "metadata": {
        "id": "nmVP3PaRxfzD",
        "outputId": "244e9aab-f7b6-4ab8-8071-827d5ff59cd3",
        "colab": {
          "base_uri": "https://localhost:8080/"
        }
      },
      "outputs": [
        {
          "output_type": "stream",
          "name": "stdout",
          "text": [
            "t-statistic: -21.80868175977445\n",
            "p-value: 2.959922599494843e-103\n"
          ]
        }
      ],
      "source": [
        "t_stat, p_val = stats.ttest_ind(home_fav[\"actualSpread - predictedSpread\"], away_fav[\"actualSpread - predictedSpread\"])\n",
        "\n",
        "print(\"t-statistic:\", t_stat)\n",
        "print(\"p-value:\", p_val)"
      ]
    },
    {
      "cell_type": "markdown",
      "metadata": {
        "id": "i1hSARCCxfzD"
      },
      "source": [
        "Given the p-value of essentially 0, we can reject the null hypothesis. This is very interesting because it shows that\n",
        "oddsmakers accuracy does change depending on whether the favorite is the home team or away team. Hence, we conduct two\n",
        "one-sided hypothesis tests to further explore this difference. We first test if for games in which the home team is favorite the difference in actual and predicted spreads is less than 0, and for games\n",
        "in which the away team is favorite we test if this difference is greater than 0. For the first test on home favorite games our hypotheses are as such:\n",
        "    \n",
        "$H_{0}: \\mu_{SH} >= 0$\n",
        "\n",
        "$H_{a}: \\mu_{SH} < 0$"
      ]
    },
    {
      "cell_type": "code",
      "execution_count": null,
      "metadata": {
        "id": "W4nrruN4xfzE",
        "outputId": "59402cd4-3284-43f2-e521-6f8dc9198b6a",
        "colab": {
          "base_uri": "https://localhost:8080/"
        }
      },
      "outputs": [
        {
          "output_type": "stream",
          "name": "stdout",
          "text": [
            "P-Value: 0.00000\n"
          ]
        }
      ],
      "source": [
        "tempMean = np.mean(home_fav[\"actualSpread - predictedSpread\"])\n",
        "tempSD = np.std(home_fav[\"actualSpread - predictedSpread\"])\n",
        "n = len(home_fav)\n",
        "\n",
        "zScore = np.sqrt(n) * (tempMean - 0) / tempSD\n",
        "pVal = stats.norm.cdf(zScore)\n",
        "print(\"P-Value: {:.5f}\".format(pVal/2))"
      ]
    },
    {
      "cell_type": "markdown",
      "metadata": {
        "id": "3qmeVYTyxfzE"
      },
      "source": [
        "Given this test, we are able to reject the null hypothesis the α=.05 signifigance level. This suggests that home\n",
        "favorites tend to underperform oddsmakers expectations. We test the opposite of this hypothesis for away favorites as such:\n",
        "    \n",
        "$H_{0}: \\mu_{SA} <= 0$\n",
        "\n",
        "$H_{a}: \\mu_{SA} > 0$"
      ]
    },
    {
      "cell_type": "code",
      "execution_count": null,
      "metadata": {
        "id": "9a3vINZdxfzE",
        "outputId": "f1b0588b-e4db-450a-843f-39b345b0337b",
        "colab": {
          "base_uri": "https://localhost:8080/"
        }
      },
      "outputs": [
        {
          "output_type": "stream",
          "name": "stdout",
          "text": [
            "P-Value: 0.00000\n"
          ]
        }
      ],
      "source": [
        "tempMean = np.mean(away_fav[\"actualSpread - predictedSpread\"])\n",
        "tempSD = np.std(away_fav[\"actualSpread - predictedSpread\"])\n",
        "n = len(away_fav)\n",
        "\n",
        "zScore = np.sqrt(n) * (tempMean - 0) / tempSD\n",
        "pVal = 1 - stats.norm.cdf(zScore)\n",
        "print(\"P-Value: {:.5f}\".format(pVal/2))"
      ]
    },
    {
      "cell_type": "markdown",
      "metadata": {
        "id": "IJWbCi57xfzE"
      },
      "source": [
        "Once again, we can reject the null hypothesis at the α=.05 signifigance level. This suggests that away favorites\n",
        "overperform oddsmakers expectations. Together, this analysis suggests that oddsmakers overestimate the value of home\n",
        "field advantage, and all else equal a gambler with a strategy to bet favorites on the spread is better off betting\n",
        "away favorites rather than home favorites in the long run."
      ]
    },
    {
      "cell_type": "code",
      "source": [],
      "metadata": {
        "id": "AL0iYaEdQNUW"
      },
      "execution_count": null,
      "outputs": []
    }
  ],
  "metadata": {
    "colab": {
      "provenance": [],
      "include_colab_link": true
    },
    "kernelspec": {
      "display_name": "Python 3 (ipykernel)",
      "language": "python",
      "name": "python3"
    },
    "language_info": {
      "codemirror_mode": {
        "name": "ipython",
        "version": 3
      },
      "file_extension": ".py",
      "mimetype": "text/x-python",
      "name": "python",
      "nbconvert_exporter": "python",
      "pygments_lexer": "ipython3",
      "version": "3.9.13"
    }
  },
  "nbformat": 4,
  "nbformat_minor": 0
}